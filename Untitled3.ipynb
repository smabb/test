{
  "nbformat": 4,
  "nbformat_minor": 0,
  "metadata": {
    "colab": {
      "name": "Untitled3.ipynb",
      "provenance": [],
      "authorship_tag": "ABX9TyPvUZOV/8/xqrLL5RDvff2O",
      "include_colab_link": true
    },
    "kernelspec": {
      "name": "python3",
      "display_name": "Python 3"
    }
  },
  "cells": [
    {
      "cell_type": "markdown",
      "metadata": {
        "id": "view-in-github",
        "colab_type": "text"
      },
      "source": [
        "<a href=\"https://colab.research.google.com/github/smabb/test/blob/master/Untitled3.ipynb\" target=\"_parent\"><img src=\"https://colab.research.google.com/assets/colab-badge.svg\" alt=\"Open In Colab\"/></a>"
      ]
    },
    {
      "cell_type": "code",
      "metadata": {
        "id": "ErLFVwTJFrjZ",
        "colab_type": "code",
        "colab": {}
      },
      "source": [
        "import requests\n",
        "import sys\n",
        "import re\n",
        "from lxml import html\n",
        "from bs4 import BeautifulSoup\n",
        "import pandas as pd\n",
        "\n",
        "\n",
        "\n",
        "url_teams=\"https://www.espn.com/soccer/teams/_/league/UEFA.CHAMPIONS/uefa-champions-league\"\n",
        "\n",
        "def get_teams(url):\n",
        "  teams=[]\n",
        "  links=[]\n",
        "  r = requests.get(url)  \n",
        "  soup = BeautifulSoup(r.content, \"html.parser\")\n",
        "  for team in soup.findAll(\"a\", class_=\"AnchorLink\"):\n",
        "    for team_name in team.findAll(\"h2\", class_=\"di clr-gray-01 h5\"):      \n",
        "      teams.append(team_name.text)\n",
        "    if team.text=='Squad':\n",
        "      link=squad_link=re.findall(r'href=\"([^\"]*)', str(team))\n",
        "      links.append(\"https://www.espn.com\"+link[0])\n",
        "    \n",
        "    \n",
        "  return list(zip(teams,links))\n",
        "\n",
        "\n",
        "def get_squads(lst):\n",
        "  squad={}\n",
        "  \n",
        "  for i,x in enumerate(lst):\n",
        "    url_team=x[1]\n",
        "    print(url_team)\n",
        "    r = requests.get(url_team)  \n",
        "    soup = BeautifulSoup(r.content, \"html.parser\")\n",
        "    players=[]\n",
        "    for player in soup.findAll(style=\"min-width:140px\"):      \n",
        "      players.append(player.text)\n",
        "    squad[lst[i][0]]=players\n",
        "\n",
        "  return squad\n",
        "  \n",
        "\n",
        "def get_player_stat():\n",
        "  \n",
        "\n",
        "#get_teams(url_teams)\n",
        "get_squads(get_teams(url_teams))\n"
      ],
      "execution_count": 0,
      "outputs": []
    },
    {
      "cell_type": "code",
      "metadata": {
        "id": "diyG7ydZpNNJ",
        "colab_type": "code",
        "colab": {}
      },
      "source": [
        ""
      ],
      "execution_count": 0,
      "outputs": []
    }
  ]
}